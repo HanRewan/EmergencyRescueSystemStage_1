{
 "cells": [
  {
   "cell_type": "code",
   "execution_count": 1,
   "id": "89b2bfab-1754-433d-9e8b-f31ae515ffa1",
   "metadata": {},
   "outputs": [
    {
     "ename": "EEException",
     "evalue": "Not signed up for Earth Engine or project is not registered. Visit https://developers.google.com/earth-engine/guides/access",
     "output_type": "error",
     "traceback": [
      "\u001b[0;31m---------------------------------------------------------------------------\u001b[0m",
      "\u001b[0;31mHttpError\u001b[0m                                 Traceback (most recent call last)",
      "File \u001b[0;32m~/DeepLProjects/EmergencyResqueStage1/venv/lib/python3.10/site-packages/ee/data.py:346\u001b[0m, in \u001b[0;36m_execute_cloud_call\u001b[0;34m(call, num_retries)\u001b[0m\n\u001b[1;32m    345\u001b[0m \u001b[38;5;28;01mtry\u001b[39;00m:\n\u001b[0;32m--> 346\u001b[0m   \u001b[38;5;28;01mreturn\u001b[39;00m \u001b[43mcall\u001b[49m\u001b[38;5;241;43m.\u001b[39;49m\u001b[43mexecute\u001b[49m\u001b[43m(\u001b[49m\u001b[43mnum_retries\u001b[49m\u001b[38;5;241;43m=\u001b[39;49m\u001b[43mnum_retries\u001b[49m\u001b[43m)\u001b[49m\n\u001b[1;32m    347\u001b[0m \u001b[38;5;28;01mexcept\u001b[39;00m googleapiclient\u001b[38;5;241m.\u001b[39merrors\u001b[38;5;241m.\u001b[39mHttpError \u001b[38;5;28;01mas\u001b[39;00m e:\n",
      "File \u001b[0;32m~/DeepLProjects/EmergencyResqueStage1/venv/lib/python3.10/site-packages/googleapiclient/_helpers.py:130\u001b[0m, in \u001b[0;36mpositional.<locals>.positional_decorator.<locals>.positional_wrapper\u001b[0;34m(*args, **kwargs)\u001b[0m\n\u001b[1;32m    129\u001b[0m         logger\u001b[38;5;241m.\u001b[39mwarning(message)\n\u001b[0;32m--> 130\u001b[0m \u001b[38;5;28;01mreturn\u001b[39;00m \u001b[43mwrapped\u001b[49m\u001b[43m(\u001b[49m\u001b[38;5;241;43m*\u001b[39;49m\u001b[43margs\u001b[49m\u001b[43m,\u001b[49m\u001b[43m \u001b[49m\u001b[38;5;241;43m*\u001b[39;49m\u001b[38;5;241;43m*\u001b[39;49m\u001b[43mkwargs\u001b[49m\u001b[43m)\u001b[49m\n",
      "File \u001b[0;32m~/DeepLProjects/EmergencyResqueStage1/venv/lib/python3.10/site-packages/googleapiclient/http.py:938\u001b[0m, in \u001b[0;36mHttpRequest.execute\u001b[0;34m(self, http, num_retries)\u001b[0m\n\u001b[1;32m    937\u001b[0m \u001b[38;5;28;01mif\u001b[39;00m resp\u001b[38;5;241m.\u001b[39mstatus \u001b[38;5;241m>\u001b[39m\u001b[38;5;241m=\u001b[39m \u001b[38;5;241m300\u001b[39m:\n\u001b[0;32m--> 938\u001b[0m     \u001b[38;5;28;01mraise\u001b[39;00m HttpError(resp, content, uri\u001b[38;5;241m=\u001b[39m\u001b[38;5;28mself\u001b[39m\u001b[38;5;241m.\u001b[39muri)\n\u001b[1;32m    939\u001b[0m \u001b[38;5;28;01mreturn\u001b[39;00m \u001b[38;5;28mself\u001b[39m\u001b[38;5;241m.\u001b[39mpostproc(resp, content)\n",
      "\u001b[0;31mHttpError\u001b[0m: <HttpError 403 when requesting https://earthengine.googleapis.com/v1/projects/earthengine-legacy/algorithms?prettyPrint=false&alt=json returned \"Not signed up for Earth Engine or project is not registered. Visit https://developers.google.com/earth-engine/guides/access\". Details: \"Not signed up for Earth Engine or project is not registered. Visit https://developers.google.com/earth-engine/guides/access\">",
      "\nDuring handling of the above exception, another exception occurred:\n",
      "\u001b[0;31mEEException\u001b[0m                               Traceback (most recent call last)",
      "Cell \u001b[0;32mIn[1], line 2\u001b[0m\n\u001b[1;32m      1\u001b[0m \u001b[38;5;28;01mimport\u001b[39;00m \u001b[38;5;21;01mee\u001b[39;00m\n\u001b[0;32m----> 2\u001b[0m \u001b[43mee\u001b[49m\u001b[38;5;241;43m.\u001b[39;49m\u001b[43mInitialize\u001b[49m\u001b[43m(\u001b[49m\u001b[43m)\u001b[49m\n\u001b[1;32m      3\u001b[0m longitude \u001b[38;5;241m=\u001b[39m \u001b[38;5;241m-\u001b[39m\u001b[38;5;241m99.02\u001b[39m\n\u001b[1;32m      4\u001b[0m latitude \u001b[38;5;241m=\u001b[39m \u001b[38;5;241m22.04\u001b[39m\n",
      "File \u001b[0;32m~/DeepLProjects/EmergencyResqueStage1/venv/lib/python3.10/site-packages/ee/__init__.py:139\u001b[0m, in \u001b[0;36mInitialize\u001b[0;34m(credentials, opt_url, cloud_api_key, http_transport, project)\u001b[0m\n\u001b[1;32m    130\u001b[0m data\u001b[38;5;241m.\u001b[39minitialize(\n\u001b[1;32m    131\u001b[0m     credentials\u001b[38;5;241m=\u001b[39mcredentials,\n\u001b[1;32m    132\u001b[0m     api_base_url\u001b[38;5;241m=\u001b[39m(opt_url \u001b[38;5;241m+\u001b[39m \u001b[38;5;124m'\u001b[39m\u001b[38;5;124m/api\u001b[39m\u001b[38;5;124m'\u001b[39m \u001b[38;5;28;01mif\u001b[39;00m opt_url \u001b[38;5;28;01melse\u001b[39;00m \u001b[38;5;28;01mNone\u001b[39;00m),\n\u001b[0;32m   (...)\u001b[0m\n\u001b[1;32m    136\u001b[0m     project\u001b[38;5;241m=\u001b[39mproject,\n\u001b[1;32m    137\u001b[0m     http_transport\u001b[38;5;241m=\u001b[39mhttp_transport)\n\u001b[1;32m    138\u001b[0m \u001b[38;5;66;03m# Initialize the dynamically loaded functions on the objects that want them.\u001b[39;00m\n\u001b[0;32m--> 139\u001b[0m \u001b[43mApiFunction\u001b[49m\u001b[38;5;241;43m.\u001b[39;49m\u001b[43minitialize\u001b[49m\u001b[43m(\u001b[49m\u001b[43m)\u001b[49m\n\u001b[1;32m    140\u001b[0m Element\u001b[38;5;241m.\u001b[39minitialize()\n\u001b[1;32m    141\u001b[0m Image\u001b[38;5;241m.\u001b[39minitialize()\n",
      "File \u001b[0;32m~/DeepLProjects/EmergencyResqueStage1/venv/lib/python3.10/site-packages/ee/apifunction.py:152\u001b[0m, in \u001b[0;36mApiFunction.initialize\u001b[0;34m(cls)\u001b[0m\n\u001b[1;32m    150\u001b[0m \u001b[38;5;250m\u001b[39m\u001b[38;5;124;03m\"\"\"Initializes the list of signatures from the Earth Engine front-end.\"\"\"\u001b[39;00m\n\u001b[1;32m    151\u001b[0m \u001b[38;5;28;01mif\u001b[39;00m \u001b[38;5;129;01mnot\u001b[39;00m \u001b[38;5;28mcls\u001b[39m\u001b[38;5;241m.\u001b[39m_api:\n\u001b[0;32m--> 152\u001b[0m   signatures \u001b[38;5;241m=\u001b[39m \u001b[43mdata\u001b[49m\u001b[38;5;241;43m.\u001b[39;49m\u001b[43mgetAlgorithms\u001b[49m\u001b[43m(\u001b[49m\u001b[43m)\u001b[49m\n\u001b[1;32m    153\u001b[0m   api \u001b[38;5;241m=\u001b[39m {}\n\u001b[1;32m    154\u001b[0m   \u001b[38;5;28;01mfor\u001b[39;00m name, sig \u001b[38;5;129;01min\u001b[39;00m signatures\u001b[38;5;241m.\u001b[39mitems():\n\u001b[1;32m    155\u001b[0m     \u001b[38;5;66;03m# Strip type parameters.\u001b[39;00m\n",
      "File \u001b[0;32m~/DeepLProjects/EmergencyResqueStage1/venv/lib/python3.10/site-packages/ee/data.py:1324\u001b[0m, in \u001b[0;36mgetAlgorithms\u001b[0;34m()\u001b[0m\n\u001b[1;32m   1319\u001b[0m     \u001b[38;5;28mprint\u001b[39m(\n\u001b[1;32m   1320\u001b[0m         \u001b[38;5;124m'\u001b[39m\u001b[38;5;124m*** Earth Engine ***\u001b[39m\u001b[38;5;124m'\u001b[39m,\n\u001b[1;32m   1321\u001b[0m         response[_INIT_MESSAGE_HEADER],\n\u001b[1;32m   1322\u001b[0m         file\u001b[38;5;241m=\u001b[39msys\u001b[38;5;241m.\u001b[39mstderr)\n\u001b[1;32m   1323\u001b[0m call\u001b[38;5;241m.\u001b[39madd_response_callback(inspect)\n\u001b[0;32m-> 1324\u001b[0m \u001b[38;5;28;01mreturn\u001b[39;00m _cloud_api_utils\u001b[38;5;241m.\u001b[39mconvert_algorithms(\u001b[43m_execute_cloud_call\u001b[49m\u001b[43m(\u001b[49m\u001b[43mcall\u001b[49m\u001b[43m)\u001b[49m)\n",
      "File \u001b[0;32m~/DeepLProjects/EmergencyResqueStage1/venv/lib/python3.10/site-packages/ee/data.py:348\u001b[0m, in \u001b[0;36m_execute_cloud_call\u001b[0;34m(call, num_retries)\u001b[0m\n\u001b[1;32m    346\u001b[0m   \u001b[38;5;28;01mreturn\u001b[39;00m call\u001b[38;5;241m.\u001b[39mexecute(num_retries\u001b[38;5;241m=\u001b[39mnum_retries)\n\u001b[1;32m    347\u001b[0m \u001b[38;5;28;01mexcept\u001b[39;00m googleapiclient\u001b[38;5;241m.\u001b[39merrors\u001b[38;5;241m.\u001b[39mHttpError \u001b[38;5;28;01mas\u001b[39;00m e:\n\u001b[0;32m--> 348\u001b[0m   \u001b[38;5;28;01mraise\u001b[39;00m _translate_cloud_exception(e)\n",
      "\u001b[0;31mEEException\u001b[0m: Not signed up for Earth Engine or project is not registered. Visit https://developers.google.com/earth-engine/guides/access"
     ]
    }
   ],
   "source": [
    "import ee\n",
    "ee.Initialize()\n",
    "longitude = -99.02\n",
    "latitude = 22.04\n",
    "date = '2021-01-03'\n",
    "point = ee.Geometry.Point([longitude, latitude])\n",
    "collection = ee.ImageCollection('COPERNICUS/S2') \\\n",
    "    .filterBounds(point) \\\n",
    "    .filterDate(date, ee.Date(date).advance(1, 'day'))\n",
    "\n",
    "\n",
    "image = ee.Image(collection.first())\n",
    "\n",
    "download_url = image.getDownloadURL({\n",
    "    'scale': 10,  \n",
    "    'crs': 'EPSG:4326'  \n",
    "})\n",
    "\n",
    "print(\"Download URL:\", download_url)"
   ]
  },
  {
   "cell_type": "code",
   "execution_count": null,
   "id": "4e5b0d38-db4b-420c-aa26-161b32d60c6e",
   "metadata": {},
   "outputs": [],
   "source": []
  }
 ],
 "metadata": {
  "kernelspec": {
   "display_name": "Python 3 (ipykernel)",
   "language": "python",
   "name": "python3"
  },
  "language_info": {
   "codemirror_mode": {
    "name": "ipython",
    "version": 3
   },
   "file_extension": ".py",
   "mimetype": "text/x-python",
   "name": "python",
   "nbconvert_exporter": "python",
   "pygments_lexer": "ipython3",
   "version": "3.10.12"
  }
 },
 "nbformat": 4,
 "nbformat_minor": 5
}
